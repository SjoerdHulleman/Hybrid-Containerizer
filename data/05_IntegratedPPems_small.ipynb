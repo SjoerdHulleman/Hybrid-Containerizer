{
 "cells": [
  {
   "cell_type": "raw",
   "id": "46815577",
   "metadata": {},
   "source": [
    "---\n",
    "title: \"Estimating integrated production in the Ems\"\n",
    "author: \"Karline Soetaert, and...\"\n",
    "date: \"first version: 27-05-2024; current version: `r format(Sys.time(), '%d %B %Y')`\"\n",
    "output:\n",
    "  pdf_document: default\n",
    "  html_document: default\n",
    "  word_document: \n",
    "abstract: Integrated photosynthesis for the Ems is estimated. It merges photosynthesis-irrandiance (PI) parameters with data series of Chlorophyll, light extinction coefficients, temperature, a time series of irradiance at the water surface and with water height data. \n",
    "keywords:\n",
    "  photosynthesis, chlorophyll, Ems, benthic, pelagic, \"R\"\n",
    "---"
   ]
  },
  {
   "cell_type": "code",
   "execution_count": null,
   "id": "f5c400ac-47d5-45c7-84c3-d012e0c42243",
   "metadata": {},
   "outputs": [],
   "source": [
    "# Install packages"
   ]
  },
  {
   "cell_type": "code",
   "execution_count": 9,
   "id": "ee74b99c-c947-45f3-bd29-3cf4f5c3c6aa",
   "metadata": {},
   "outputs": [
    {
     "name": "stderr",
     "output_type": "stream",
     "text": [
      "Updating HTML index of packages in '.Library'\n",
      "\n",
      "Making 'packages.html' ...\n",
      " done\n",
      "\n"
     ]
    }
   ],
   "source": [
    "install.packages(c('plot3D', 'Rcpp'))"
   ]
  },
  {
   "cell_type": "code",
   "execution_count": 10,
   "id": "ed0d0294",
   "metadata": {
    "name": "setup",
    "tags": [
     "remove_cell"
    ]
   },
   "outputs": [
    {
     "name": "stderr",
     "output_type": "stream",
     "text": [
      "Loading required package: plot3D\n",
      "\n",
      "Warning message:\n",
      "“no DISPLAY variable so Tk is not available”\n"
     ]
    }
   ],
   "source": [
    "options(width = 120)\n",
    "require(plot3D)\n",
    "palette(\"Dark2\")"
   ]
  },
  {
   "cell_type": "markdown",
   "id": "63cc9a64",
   "metadata": {
    "tags": []
   },
   "source": [
    "# Ems data"
   ]
  },
  {
   "cell_type": "code",
   "execution_count": 1,
   "id": "0b64b250-87e6-415e-b267-2901e5748891",
   "metadata": {},
   "outputs": [
    {
     "name": "stderr",
     "output_type": "stream",
     "text": [
      "also installing the dependencies ‘sys’, ‘askpass’, ‘mime’, ‘openssl’, ‘curl’, ‘httr’, ‘xml2’, ‘aws.signature’\n",
      "\n",
      "\n",
      "Updating HTML index of packages in '.Library'\n",
      "\n",
      "Making 'packages.html' ...\n",
      " done\n",
      "\n"
     ]
    }
   ],
   "source": [
    "# Configuration (do not containerize this cell)\n",
    "install.packages(\"aws.s3\")\n",
    "library(\"aws.s3\")\n",
    "\n",
    "# param_ values are used as workflow parameters\n",
    "param_s3_endpoint = \"scruffy.lab.uvalight.net:9000\"\n",
    "param_s3_user_prefix = \"sjoerd.hulleman@student.uva.nl\"  # Your personal folder in the naa-vre-user-data bucket in MinIO\n",
    "param_s3_access_key = \"aLkg5EPMzJ5WN4LzqSTY\"\n",
    "param_s3_secret_key = \"VirpwxEDfSDMmmuc4bILwyt4B7BeEUCOXnNPC9Tx\""
   ]
  },
  {
   "cell_type": "code",
   "execution_count": 8,
   "id": "5be7fe96-b658-404a-a1f4-c0160944ac2a",
   "metadata": {},
   "outputs": [
    {
     "data": {
      "text/html": [
       "<table class=\"dataframe\">\n",
       "<caption>A data.frame: 2 × 2</caption>\n",
       "<thead>\n",
       "\t<tr><th></th><th scope=col>Bucket</th><th scope=col>CreationDate</th></tr>\n",
       "\t<tr><th></th><th scope=col>&lt;chr&gt;</th><th scope=col>&lt;chr&gt;</th></tr>\n",
       "</thead>\n",
       "<tbody>\n",
       "\t<tr><th scope=row>1</th><td>naa-vre-public   </td><td>2024-01-15T15:56:11.707Z</td></tr>\n",
       "\t<tr><th scope=row>2</th><td>naa-vre-user-data</td><td>2024-02-14T16:46:55.908Z</td></tr>\n",
       "</tbody>\n",
       "</table>\n"
      ],
      "text/latex": [
       "A data.frame: 2 × 2\n",
       "\\begin{tabular}{r|ll}\n",
       "  & Bucket & CreationDate\\\\\n",
       "  & <chr> & <chr>\\\\\n",
       "\\hline\n",
       "\t1 & naa-vre-public    & 2024-01-15T15:56:11.707Z\\\\\n",
       "\t2 & naa-vre-user-data & 2024-02-14T16:46:55.908Z\\\\\n",
       "\\end{tabular}\n"
      ],
      "text/markdown": [
       "\n",
       "A data.frame: 2 × 2\n",
       "\n",
       "| <!--/--> | Bucket &lt;chr&gt; | CreationDate &lt;chr&gt; |\n",
       "|---|---|---|\n",
       "| 1 | naa-vre-public    | 2024-01-15T15:56:11.707Z |\n",
       "| 2 | naa-vre-user-data | 2024-02-14T16:46:55.908Z |\n",
       "\n"
      ],
      "text/plain": [
       "  Bucket            CreationDate            \n",
       "1 naa-vre-public    2024-01-15T15:56:11.707Z\n",
       "2 naa-vre-user-data 2024-02-14T16:46:55.908Z"
      ]
     },
     "metadata": {},
     "output_type": "display_data"
    },
    {
     "data": {
      "text/html": [
       "'downloaded_data/Spatio_temporal_settings.rda'"
      ],
      "text/latex": [
       "'downloaded\\_data/Spatio\\_temporal\\_settings.rda'"
      ],
      "text/markdown": [
       "'downloaded_data/Spatio_temporal_settings.rda'"
      ],
      "text/plain": [
       "[1] \"downloaded_data/Spatio_temporal_settings.rda\""
      ]
     },
     "metadata": {},
     "output_type": "display_data"
    },
    {
     "data": {
      "text/html": [
       "'downloaded_data/WKd_Ems.rda'"
      ],
      "text/latex": [
       "'downloaded\\_data/WKd\\_Ems.rda'"
      ],
      "text/markdown": [
       "'downloaded_data/WKd_Ems.rda'"
      ],
      "text/plain": [
       "[1] \"downloaded_data/WKd_Ems.rda\""
      ]
     },
     "metadata": {},
     "output_type": "display_data"
    },
    {
     "data": {
      "text/html": [
       "'downloaded_data/Irrad_Ems.rda'"
      ],
      "text/latex": [
       "'downloaded\\_data/Irrad\\_Ems.rda'"
      ],
      "text/markdown": [
       "'downloaded_data/Irrad_Ems.rda'"
      ],
      "text/plain": [
       "[1] \"downloaded_data/Irrad_Ems.rda\""
      ]
     },
     "metadata": {},
     "output_type": "display_data"
    },
    {
     "data": {
      "text/html": [
       "'downloaded_data/WAlpha_Ems.rda'"
      ],
      "text/latex": [
       "'downloaded\\_data/WAlpha\\_Ems.rda'"
      ],
      "text/markdown": [
       "'downloaded_data/WAlpha_Ems.rda'"
      ],
      "text/plain": [
       "[1] \"downloaded_data/WAlpha_Ems.rda\""
      ]
     },
     "metadata": {},
     "output_type": "display_data"
    },
    {
     "data": {
      "text/html": [
       "'downloaded_data/WEopt_Ems.rda'"
      ],
      "text/latex": [
       "'downloaded\\_data/WEopt\\_Ems.rda'"
      ],
      "text/markdown": [
       "'downloaded_data/WEopt_Ems.rda'"
      ],
      "text/plain": [
       "[1] \"downloaded_data/WEopt_Ems.rda\""
      ]
     },
     "metadata": {},
     "output_type": "display_data"
    },
    {
     "data": {
      "text/html": [
       "'downloaded_data/WPs_Ems.rda'"
      ],
      "text/latex": [
       "'downloaded\\_data/WPs\\_Ems.rda'"
      ],
      "text/markdown": [
       "'downloaded_data/WPs_Ems.rda'"
      ],
      "text/plain": [
       "[1] \"downloaded_data/WPs_Ems.rda\""
      ]
     },
     "metadata": {},
     "output_type": "display_data"
    },
    {
     "data": {
      "text/html": [
       "'downloaded_data/WHeight_Ems.rda'"
      ],
      "text/latex": [
       "'downloaded\\_data/WHeight\\_Ems.rda'"
      ],
      "text/markdown": [
       "'downloaded_data/WHeight_Ems.rda'"
      ],
      "text/plain": [
       "[1] \"downloaded_data/WHeight_Ems.rda\""
      ]
     },
     "metadata": {},
     "output_type": "display_data"
    },
    {
     "data": {
      "text/html": [
       "'downloaded_data/Sediment_Ems.rda'"
      ],
      "text/latex": [
       "'downloaded\\_data/Sediment\\_Ems.rda'"
      ],
      "text/markdown": [
       "'downloaded_data/Sediment_Ems.rda'"
      ],
      "text/plain": [
       "[1] \"downloaded_data/Sediment_Ems.rda\""
      ]
     },
     "metadata": {},
     "output_type": "display_data"
    },
    {
     "data": {
      "text/html": [
       "'downloaded_data/BAlpha_Ems.rda'"
      ],
      "text/latex": [
       "'downloaded\\_data/BAlpha\\_Ems.rda'"
      ],
      "text/markdown": [
       "'downloaded_data/BAlpha_Ems.rda'"
      ],
      "text/plain": [
       "[1] \"downloaded_data/BAlpha_Ems.rda\""
      ]
     },
     "metadata": {},
     "output_type": "display_data"
    },
    {
     "data": {
      "text/html": [
       "'downloaded_data/BEopt_Ems.rda'"
      ],
      "text/latex": [
       "'downloaded\\_data/BEopt\\_Ems.rda'"
      ],
      "text/markdown": [
       "'downloaded_data/BEopt_Ems.rda'"
      ],
      "text/plain": [
       "[1] \"downloaded_data/BEopt_Ems.rda\""
      ]
     },
     "metadata": {},
     "output_type": "display_data"
    },
    {
     "data": {
      "text/html": [
       "'downloaded_data/BPs_Ems.rda'"
      ],
      "text/latex": [
       "'downloaded\\_data/BPs\\_Ems.rda'"
      ],
      "text/markdown": [
       "'downloaded_data/BPs_Ems.rda'"
      ],
      "text/plain": [
       "[1] \"downloaded_data/BPs_Ems.rda\""
      ]
     },
     "metadata": {},
     "output_type": "display_data"
    }
   ],
   "source": [
    "# Access MinIO files\n",
    "\n",
    "Sys.setenv(\n",
    "    \"AWS_ACCESS_KEY_ID\" = param_s3_access_key,\n",
    "    \"AWS_SECRET_ACCESS_KEY\" = param_s3_secret_key,\n",
    "    \"AWS_S3_ENDPOINT\" = param_s3_endpoint\n",
    "    )\n",
    "# List existing buckets: get a list of all available buckets\n",
    "bucketlist(region=\"\")\n",
    "# List files in bucket: get a list of files in a given bucket. For bucket `naa-vre-user-data`, only list files in your personal folder\n",
    "# get_bucket_df(region=\"\", bucket=\"naa-vre-user-data\", prefix=paste0(param_s3_user_prefix, \"/input_data/\"))\n",
    "# # Upload file to bucket: uploads `myfile_local.csv` to your personal folder on MinIO as `myfile.csv`\n",
    "# put_object(region=\"\", bucket=\"naa-vre-user-data\", file=\"myfile_local.csv\", object=paste0(param_s3_user_prefix, \"/myfile.csv\"))\n",
    "# # Download file from bucket: download `myfile.csv` from your personal folder on MinIO and save it locally as `myfile_downloaded.csv`\n",
    "\n",
    "save_object(region=\"\", bucket=\"naa-vre-user-data\", file=\"downloaded_data/Spatio_temporal_settings.rda\", object=paste0(param_s3_user_prefix, \"/input_data/Spatio_temporal_settings.rda\"))\n",
    "save_object(region=\"\", bucket=\"naa-vre-user-data\", file=\"downloaded_data/WKd_Ems.rda\", object=paste0(param_s3_user_prefix, \"/input_data/WKd_Ems.rda\"))\n",
    "save_object(region=\"\", bucket=\"naa-vre-user-data\", file=\"downloaded_data/Irrad_Ems.rda\", object=paste0(param_s3_user_prefix, \"/input_data/Irrad_Ems.rda\"))\n",
    "save_object(region=\"\", bucket=\"naa-vre-user-data\", file=\"downloaded_data/WAlpha_Ems.rda\", object=paste0(param_s3_user_prefix, \"/input_data/WAlpha_Ems.rda\"))\n",
    "save_object(region=\"\", bucket=\"naa-vre-user-data\", file=\"downloaded_data/WEopt_Ems.rda\", object=paste0(param_s3_user_prefix, \"/input_data/WEopt_Ems.rda\"))\n",
    "save_object(region=\"\", bucket=\"naa-vre-user-data\", file=\"downloaded_data/WPs_Ems.rda\", object=paste0(param_s3_user_prefix, \"/input_data/WPs_Ems.rda\"))\n",
    "save_object(region=\"\", bucket=\"naa-vre-user-data\", file=\"downloaded_data/WHeight_Ems.rda\", object=paste0(param_s3_user_prefix, \"/input_data/WHeight_Ems.rda\"))\n",
    "save_object(region=\"\", bucket=\"naa-vre-user-data\", file=\"downloaded_data/Sediment_Ems.rda\", object=paste0(param_s3_user_prefix, \"/input_data/Sediment_Ems.rda\"))\n",
    "save_object(region=\"\", bucket=\"naa-vre-user-data\", file=\"downloaded_data/BAlpha_Ems.rda\", object=paste0(param_s3_user_prefix, \"/input_data/BAlpha_Ems.rda\"))\n",
    "save_object(region=\"\", bucket=\"naa-vre-user-data\", file=\"downloaded_data/BEopt_Ems.rda\", object=paste0(param_s3_user_prefix, \"/input_data/BEopt_Ems.rda\"))\n",
    "save_object(region=\"\", bucket=\"naa-vre-user-data\", file=\"downloaded_data/BPs_Ems.rda\", object=paste0(param_s3_user_prefix, \"/input_data/BPs_Ems.rda\"))"
   ]
  },
  {
   "cell_type": "code",
   "execution_count": 1,
   "id": "bea03bbf",
   "metadata": {
    "fig.height": 6,
    "fig.width": 8
   },
   "outputs": [
    {
     "ename": "ERROR",
     "evalue": "Error in eval(expr, envir, enclos): object 'param_s3_access_key' not found\n",
     "output_type": "error",
     "traceback": [
      "Error in eval(expr, envir, enclos): object 'param_s3_access_key' not found\nTraceback:\n",
      "1. Sys.setenv(AWS_ACCESS_KEY_ID = param_s3_access_key, AWS_SECRET_ACCESS_KEY = param_s3_secret_key, \n .     AWS_S3_ENDPOINT = param_s3_endpoint)"
     ]
    }
   ],
   "source": [
    "# Fetch Data 4\n",
    "\n",
    "Sys.setenv(\n",
    "    \"AWS_ACCESS_KEY_ID\" = param_s3_access_key,\n",
    "    \"AWS_SECRET_ACCESS_KEY\" = param_s3_secret_key,\n",
    "    \"AWS_S3_ENDPOINT\" = param_s3_endpoint\n",
    "    )\n",
    "# List existing buckets: get a list of all available buckets\n",
    "bucketlist(region=\"\")\n",
    "# List files in bucket: get a list of files in a given bucket. For bucket `naa-vre-user-data`, only list files in your personal folder\n",
    "# get_bucket_df(region=\"\", bucket=\"naa-vre-user-data\", prefix=paste0(param_s3_user_prefix, \"/input_data/\"))\n",
    "# # Upload file to bucket: uploads `myfile_local.csv` to your personal folder on MinIO as `myfile.csv`\n",
    "# put_object(region=\"\", bucket=\"naa-vre-user-data\", file=\"myfile_local.csv\", object=paste0(param_s3_user_prefix, \"/myfile.csv\"))\n",
    "# # Download file from bucket: download `myfile.csv` from your personal folder on MinIO and save it locally as `myfile_downloaded.csv`\n",
    "\n",
    "save_object(region=\"\", bucket=\"naa-vre-user-data\", file=\"/tmp/data/Spatio_temporal_settings.rda\", object=paste0(param_s3_user_prefix, \"/input_data/Spatio_temporal_settings.rda\"))\n",
    "save_object(region=\"\", bucket=\"naa-vre-user-data\", file=\"/tmp/data/WKd_Ems.rda\", object=paste0(param_s3_user_prefix, \"/input_data/WKd_Ems.rda\"))\n",
    "save_object(region=\"\", bucket=\"naa-vre-user-data\", file=\"/tmp/data/Irrad_Ems.rda\", object=paste0(param_s3_user_prefix, \"/input_data/Irrad_Ems.rda\"))\n",
    "save_object(region=\"\", bucket=\"naa-vre-user-data\", file=\"/tmp/data/WAlpha_Ems.rda\", object=paste0(param_s3_user_prefix, \"/input_data/WAlpha_Ems.rda\"))\n",
    "save_object(region=\"\", bucket=\"naa-vre-user-data\", file=\"/tmp/data/WEopt_Ems.rda\", object=paste0(param_s3_user_prefix, \"/input_data/WEopt_Ems.rda\"))\n",
    "save_object(region=\"\", bucket=\"naa-vre-user-data\", file=\"/tmp/data/WPs_Ems.rda\", object=paste0(param_s3_user_prefix, \"/input_data/WPs_Ems.rda\"))\n",
    "save_object(region=\"\", bucket=\"naa-vre-user-data\", file=\"/tmp/data/WHeight_Ems.rda\", object=paste0(param_s3_user_prefix, \"/input_data/WHeight_Ems.rda\"))\n",
    "save_object(region=\"\", bucket=\"naa-vre-user-data\", file=\"/tmp/data/Sediment_Ems.rda\", object=paste0(param_s3_user_prefix, \"/input_data/Sediment_Ems.rda\"))\n",
    "save_object(region=\"\", bucket=\"naa-vre-user-data\", file=\"/tmp/data/BAlpha_Ems.rda\", object=paste0(param_s3_user_prefix, \"/input_data/BAlpha_Ems.rda\"))\n",
    "save_object(region=\"\", bucket=\"naa-vre-user-data\", file=\"/tmp/data/BEopt_Ems.rda\", object=paste0(param_s3_user_prefix, \"/input_data/BEopt_Ems.rda\"))\n",
    "save_object(region=\"\", bucket=\"naa-vre-user-data\", file=\"/tmp/data/BPs_Ems.rda\", object=paste0(param_s3_user_prefix, \"/input_data/BPs_Ems.rda\"))\n",
    "\n",
    "save_object(region=\"\", bucket=\"naa-vre-user-data\", file=\"/tmp/data/intPP2D.cpp\", object=paste0(param_s3_user_prefix, \"/cpp/intPP2D.cpp\"))\n",
    "\n",
    "spatio = '/tmp/data/Spatio_temporal_settings.rda'\n",
    "wkd = '/tmp/data/WKd_Ems.rda'\n",
    "irrad = '/tmp/data/Irrad_Ems.rda'\n",
    "walpha = '/tmp/data/WAlpha_Ems.rda'\n",
    "weopt = '/tmp/data/WEopt_Ems.rda'\n",
    "wps = '/tmp/data/WPs_Ems.rda'\n",
    "wheight = '/tmp/data/WHeight_Ems.rda'\n",
    "sediment = '/tmp/data/Sediment_Ems.rda'\n",
    "balpha = '/tmp/data/BAlpha_Ems.rda'\n",
    "beopt = '/tmp/data/BEopt_Ems.rda'\n",
    "bps = '/tmp/data/BPs_Ems.rda'\n",
    "\n",
    "cppfile = '/tmp/data/intPP2D.cpp'\n",
    "\n",
    "# load(file = \"downloaded_data/Spatio_temporal_settings.rda\")\n",
    "# load(file = \"downloaded_data/WKd_Ems.rda\")\n",
    "# load(file = \"downloaded_data/Irrad_Ems.rda\")\n",
    "# load(file = \"downloaded_data/WAlpha_Ems.rda\")\n",
    "# load(file = \"downloaded_data/WEopt_Ems.rda\")\n",
    "# load(file = \"downloaded_data/WPs_Ems.rda\")\n",
    "# load(file = \"downloaded_data/WHeight_Ems.rda\")\n",
    "# load(file = \"downloaded_data/Sediment_Ems.rda\")\n",
    "# load(file = \"downloaded_data/BAlpha_Ems.rda\")\n",
    "# load(file = \"downloaded_data/BEopt_Ems.rda\")\n",
    "# load(file = \"downloaded_data/BPs_Ems.rda\")\n",
    "\n",
    "\n",
    "# Batxyv <- Bat_xyv\n",
    "# WKd <- WKd_Ems\n",
    "# Irrad <- Irrad_Ems\n",
    "# WAlpha <- WAlpha_Ems\n",
    "# WEopt <- WEopt_Ems\n",
    "# WPs <- WPs_Ems\n",
    "# WHeight <- WHeight_Ems\n",
    "# Sediment <- Sediment_Ems\n",
    "# BAlpha <- BAlpha_Ems\n",
    "# BEopt <- BEopt_Ems\n",
    "# BPs <- BPs_Ems\n",
    "     \n",
    "# Silt <- Sediment_Ems$silt\n",
    "# Depth <- Bat_xyv$depth\n",
    "# Kd <- Sediment_Ems$Kd\n",
    "\n",
    "# print(typeof(Silt))\n",
    "# print(typeof(Depth))\n",
    "# print(typeof(Kd))\n",
    "\n",
    "# print(typeof(Batxyv))\n",
    "# print(typeof(WKd))\n",
    "# print(typeof(Irrad))\n",
    "# print(typeof(WAlpha))\n",
    "# print(typeof(WEopt))\n",
    "# print(typeof(WPs))\n",
    "# print(typeof(WHeight))\n",
    "# print(typeof(Sediment))\n",
    "# print(typeof(BAlpha))\n",
    "# print(typeof(BEopt))\n",
    "# print(typeof(BPs))\n",
    "\n",
    "\n"
   ]
  },
  {
   "cell_type": "markdown",
   "id": "ac39f61e",
   "metadata": {},
   "source": [
    "# Integrated production"
   ]
  },
  {
   "cell_type": "code",
   "execution_count": null,
   "id": "47e18320",
   "metadata": {},
   "outputs": [
    {
     "name": "stderr",
     "output_type": "stream",
     "text": [
      "Loading required package: Rcpp\n",
      "\n"
     ]
    }
   ],
   "source": [
    "# Rcpp test\n",
    "# ---\n",
    "# NaaVRE:\n",
    "#  cell:\n",
    "#   inputs:\n",
    "#    - spatio: String\n",
    "#    - wkd: String\n",
    "#    - irrad: String\n",
    "#    - walpha: String\n",
    "#    - weopt: String\n",
    "#    - wps: String\n",
    "#    - wheight: String\n",
    "#    - sediment: String\n",
    "#    - balpha: String\n",
    "#    - beopt: String\n",
    "#    - bps: String\n",
    "#   outputs: []\n",
    "# ...\n",
    "\n",
    "require(Rcpp)\n",
    "\n",
    "load(file = spatio)\n",
    "load(file = wkd)\n",
    "load(file = irrad)\n",
    "load(file = walpha)\n",
    "load(file = weopt)\n",
    "load(file = wps)\n",
    "load(file = wheight)\n",
    "load(file = sediment)\n",
    "load(file = balpha)\n",
    "load(file = beopt)\n",
    "load(file = bps)"
   ]
  },
  {
   "cell_type": "code",
   "execution_count": 35,
   "id": "f92584f6",
   "metadata": {},
   "outputs": [
    {
     "name": "stderr",
     "output_type": "stream",
     "text": [
      "Updating HTML index of packages in '.Library'\n",
      "\n",
      "Making 'packages.html' ...\n",
      " done\n",
      "\n"
     ]
    },
    {
     "name": "stdout",
     "output_type": "stream",
     "text": [
      "[1] \"STARTING FIRST CULCATIONS\"\n"
     ]
    },
    {
     "data": {
      "text/plain": [
       "   user  system elapsed \n",
       "  0.105   0.000   0.141 "
      ]
     },
     "metadata": {},
     "output_type": "display_data"
    },
    {
     "data": {
      "text/plain": [
       "   user  system elapsed \n",
       "  0.041   0.000   0.078 "
      ]
     },
     "metadata": {},
     "output_type": "display_data"
    },
    {
     "data": {
      "text/plain": [
       "   user  system elapsed \n",
       "  0.077   0.000   0.115 "
      ]
     },
     "metadata": {},
     "output_type": "display_data"
    },
    {
     "name": "stdout",
     "output_type": "stream",
     "text": [
      "[1] \"STARTING SECOND CULCATIONS\"\n",
      "[1] \"SAVING FILES\"\n",
      "[1] \"STARTING VISUALIZATIONS\"\n"
     ]
    },
    {
     "data": {
      "text/html": [
       "<strong>png:</strong> 2"
      ],
      "text/latex": [
       "\\textbf{png:} 2"
      ],
      "text/markdown": [
       "**png:** 2"
      ],
      "text/plain": [
       "png \n",
       "  2 "
      ]
     },
     "metadata": {},
     "output_type": "display_data"
    }
   ],
   "source": [
    "# Complete calcuations 3\n",
    "# ---\n",
    "# NaaVRE:\n",
    "#  cell:\n",
    "#   inputs:\n",
    "#    - spatio: String\n",
    "#    - wkd: String\n",
    "#    - irrad: String\n",
    "#    - walpha: String\n",
    "#    - weopt: String\n",
    "#    - wps: String\n",
    "#    - wheight: String\n",
    "#    - sediment: String\n",
    "#    - balpha: String\n",
    "#    - beopt: String\n",
    "#    - bps: String\n",
    "#    - cppfile: String\n",
    "#   outputs: []\n",
    "# ...\n",
    "\n",
    "\n",
    "# Load requirements\n",
    "library(\"aws.s3\")\n",
    "\n",
    "require(Rcpp)\n",
    "\n",
    "require(plot3D)\n",
    "palette(\"Dark2\")\n",
    "options(width = 120)\n",
    "# options(repos = c(CRAN = \"https://cloud.r-project.org\"))\n",
    "\n",
    "Sys.setenv(\n",
    "    \"AWS_ACCESS_KEY_ID\" = param_s3_access_key,\n",
    "    \"AWS_SECRET_ACCESS_KEY\" = param_s3_secret_key,\n",
    "    \"AWS_S3_ENDPOINT\" = param_s3_endpoint\n",
    "    )\n",
    "\n",
    "# Load files into env\n",
    "load(file = spatio)\n",
    "load(file = wkd)\n",
    "load(file = irrad)\n",
    "load(file = walpha)\n",
    "load(file = weopt)\n",
    "load(file = wps)\n",
    "load(file = wheight)\n",
    "load(file = sediment)\n",
    "load(file = balpha)\n",
    "load(file = beopt)\n",
    "load(file = bps)\n",
    "\n",
    "sourceCpp(file = cppfile)  # compiles the C++ code and loads the functions\n",
    "\n",
    "print(\"STARTING FIRST CULCATIONS\")\n",
    "# Pelagic primary production, assuming mixed water column \n",
    "system.time(\n",
    "vs  ppPel <- intPP_mixed(Bat_xyv$depth, \n",
    "                 as.matrix(WKd_Ems    [, -1]), \n",
    "                 as.matrix(Irrad_Ems  [, -1]), \n",
    "                 as.matrix(WAlpha_Ems [, -1]), \n",
    "                 as.matrix(WEopt_Ems  [, -1]), \n",
    "                 as.matrix(WPs_Ems    [, -1]), \n",
    "                 as.matrix(WHeight_Ems[, -1]))\n",
    ")\n",
    "\n",
    "# radiation at the bottom   \n",
    "system.time(\n",
    "  Rad <- rad_bot(Bat_xyv$depth, \n",
    "                 as.matrix(WKd_Ems     [, -1]), \n",
    "                 as.matrix(Irrad_Ems  [, -1]), \n",
    "                 as.matrix(WHeight_Ems[, -1]))\n",
    ")\n",
    "\n",
    "zn <- 0.002  # depth of chlorophyll layer\n",
    "\n",
    "# Benthic primary production, \n",
    "# exponentially declining chlorophyll concentration, a function of silt fraction\n",
    "system.time(\n",
    "  ppBen <- intPP_exp(as.vector(rep(zn, times = nrow(Bat_xyv))), \n",
    "                    as.vector(Sediment_Ems$Kd), \n",
    "                    as.vector(Sediment_Ems$silt/100),\n",
    "                    as.matrix(Rad), \n",
    "                    as.matrix(BAlpha_Ems      [, -1]), \n",
    "                    as.matrix(BEopt_Ems       [, -1]), \n",
    "                    as.matrix(BPs_Ems         [, -1]))\n",
    ")\n",
    "\n",
    "# Calculations 2\n",
    "print(\"STARTING SECOND CULCATIONS\")\n",
    "Pelagic_t <- apply(ppPel, MARGIN = 1, FUN = mean)\n",
    "Benthic_t <- apply(ppBen, MARGIN = 1, FUN = mean)\n",
    "\n",
    "Pelagic_xy <- data.frame(Bat_xyv, # longitude, latitude, depth\n",
    "                         ppPel = apply(ppPel, MARGIN = 2, FUN = mean))\n",
    "Benthic_xy <- data.frame(Bat_xyv, \n",
    "                         ppBen = apply(ppBen, MARGIN = 2, FUN = mean))\n",
    "Rad_bottom <- data.frame(Bat_xyv, rad = colMeans(Rad))\n",
    "\n",
    "# Save files\n",
    "print(\"SAVING FILES\")\n",
    "# put_object(region=\"\", bucket=\"naa-vre-user-data\", file=\"myfile_local.csv\", object=paste0(param_s3_user_prefix, \"/myfile.csv\"))\n",
    "# save(file = \"../output_data/Pelagic_t.rda\", Pelagic_t)\n",
    "# save(file = \"../output_data/Benthic_t.rda\", Benthic_t)\n",
    "# save(file = \"../output_data/Pelagic_xy.rda\", Pelagic_xy)\n",
    "# save(file = \"../output_data/Benthic_xy.rda\", Benthic_xy)\n",
    "\n",
    "# Visualizations\n",
    "print(\"STARTING VISUALIZATIONS\")\n",
    "png(\"output_plot.png\", width = 1600, height = 1200)\n",
    "\n",
    "par(mfrow=c(2,3))\n",
    "with(Pelagic_xy, \n",
    "   points2D(longitude, latitude, colvar=depth, \n",
    "         main = \"water depth\", clab= \"m\",\n",
    "         asp=1.8, pch=\".\", cex=4))\n",
    "\n",
    "with(Pelagic_xy, \n",
    "   points2D(longitude, latitude, colvar=ppPel, \n",
    "         main = \"Pelagic Photosynthesis\", clab=\"mgC/m2/h\",\n",
    "         asp=1.8, pch=\".\", cex=4))\n",
    "\n",
    "with(Benthic_xy, \n",
    "   points2D(longitude, latitude, colvar=ppBen, \n",
    "         main = \"Benthic Photosynthesis\", clab=\"mgC/m2/h\", \n",
    "         asp=1.8, pch=\".\", cex=4))\n",
    "\n",
    "with(Rad_bottom, \n",
    "   points2D(longitude, latitude, colvar=rad, \n",
    "         main = \"Radiation at bottom\", clab=\"uE/m2/s\",\n",
    "         asp=1.8, pch=\".\", cex=4))\n",
    "\n",
    "with(Sediment_Ems, \n",
    "   points2D(longitude, latitude, colvar=Kd, \n",
    "         main = \"Sediment extinction\", clab=\"/m\",\n",
    "         asp=1.8, pch=\".\", cex=4))\n",
    "\n",
    "# Close the PNG device\n",
    "dev.off()\n",
    "\n",
    "print(\"SAVING FILE TO OBJECT STORAGE\")\n",
    "put_object(region=\"\", bucket=\"naa-vre-user-data\", file=\"output_plot.png\", object=paste0(param_s3_user_prefix, \"/outputs/output_plot.png\"))"
   ]
  },
  {
   "cell_type": "code",
   "execution_count": 12,
   "id": "ab9df611",
   "metadata": {},
   "outputs": [],
   "source": [
    "# Calculations 2\n",
    "# ---\n",
    "# NaaVRE:\n",
    "#  cell:\n",
    "#   inputs:\n",
    "#    - ppPel: Float\n",
    "#    - ppBen: Float\n",
    "#    - Rad: Float\n",
    "#    - Bat_xyv: Float\n",
    "#   outputs:\n",
    "#    - Pelagic_t: Float\n",
    "#    - Benthic_t: Float\n",
    "#    - Pelagic_xy: List\n",
    "#    - Benthic_xy: List\n",
    "#    - Rad_bottom: List\n",
    "# ...\n",
    "\n",
    "\n",
    "# print(typeof(Pelagic_t))\n",
    "# print(typeof(Benthic_t))\n",
    "# print(typeof(Pelagic_xy))\n",
    "# print(typeof(Benthic_xy))\n",
    "# print(typeof(Rad_bottom))"
   ]
  },
  {
   "cell_type": "code",
   "execution_count": 16,
   "id": "d60e9390",
   "metadata": {},
   "outputs": [],
   "source": []
  },
  {
   "cell_type": "code",
   "execution_count": 13,
   "id": "ea104795",
   "metadata": {
    "fig.height": 6,
    "fig.width": 10,
    "lines_to_next_cell": 2
   },
   "outputs": [
    {
     "ename": "ERROR",
     "evalue": "Error in points2D(longitude, latitude, colvar = depth, main = \"water depth\", : could not find function \"points2D\"\n",
     "output_type": "error",
     "traceback": [
      "Error in points2D(longitude, latitude, colvar = depth, main = \"water depth\", : could not find function \"points2D\"\nTraceback:\n",
      "1. with(Pelagic_xy, points2D(longitude, latitude, colvar = depth, \n .     main = \"water depth\", clab = \"m\", asp = 1.8, pch = \".\", cex = 4))",
      "2. with.default(Pelagic_xy, points2D(longitude, latitude, colvar = depth, \n .     main = \"water depth\", clab = \"m\", asp = 1.8, pch = \".\", cex = 4))",
      "3. eval(substitute(expr), data, enclos = parent.frame())",
      "4. eval(substitute(expr), data, enclos = parent.frame())"
     ]
    }
   ],
   "source": [
    "# Visualizations\n",
    "# ---\n",
    "# NaaVRE:\n",
    "#  cell:\n",
    "#   inputs:\n",
    "#    - Pelagic_xy: List\n",
    "#    - Benthic_xy: List\n",
    "#    - Rad_bottom: List\n",
    "#    - Sediment_Ems: List\n",
    "#   outputs: []\n",
    "# ...\n",
    "\n",
    "# par(mfrow=c(2,3))\n",
    "# with(Pelagic_xy, \n",
    "#    points2D(longitude, latitude, colvar=depth, \n",
    "#          main = \"water depth\", clab= \"m\",\n",
    "#          asp=1.8, pch=\".\", cex=4))\n",
    "\n",
    "# with(Pelagic_xy, \n",
    "#    points2D(longitude, latitude, colvar=ppPel, \n",
    "#          main = \"Pelagic Photosynthesis\", clab=\"mgC/m2/h\",\n",
    "#          asp=1.8, pch=\".\", cex=4))\n",
    "\n",
    "# with(Benthic_xy, \n",
    "#    points2D(longitude, latitude, colvar=ppBen, \n",
    "#          main = \"Benthic Photosynthesis\", clab=\"mgC/m2/h\", \n",
    "#          asp=1.8, pch=\".\", cex=4))\n",
    "\n",
    "# with(Rad_bottom, \n",
    "#    points2D(longitude, latitude, colvar=rad, \n",
    "#          main = \"Radiation at bottom\", clab=\"uE/m2/s\",\n",
    "#          asp=1.8, pch=\".\", cex=4))\n",
    "\n",
    "# with(Sediment_Ems, \n",
    "#    points2D(longitude, latitude, colvar=Kd, \n",
    "#          main = \"Sediment extinction\", clab=\"/m\",\n",
    "#          asp=1.8, pch=\".\", cex=4))\n"
   ]
  },
  {
   "cell_type": "markdown",
   "id": "11879c23",
   "metadata": {},
   "source": [
    "# References\n",
    "\n",
    " Brinkman & Jacobs, 2023. Gross pelagic primary production in the Ems-Dollard estuary,\n",
    " Journal of Sea Research 192 (2023) 102362\n"
   ]
  }
 ],
 "metadata": {
  "jupytext": {
   "cell_metadata_filter": "fig.height,tags,fig.width,name,-all",
   "main_language": "R",
   "notebook_metadata_filter": "-all"
  },
  "kernelspec": {
   "display_name": "R",
   "language": "R",
   "name": "ir"
  },
  "language_info": {
   "codemirror_mode": "r",
   "file_extension": ".r",
   "mimetype": "text/x-r-source",
   "name": "R",
   "pygments_lexer": "r",
   "version": "4.3.3"
  }
 },
 "nbformat": 4,
 "nbformat_minor": 5
}
